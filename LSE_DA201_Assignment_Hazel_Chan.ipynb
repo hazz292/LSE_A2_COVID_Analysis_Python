{
 "cells": [
  {
   "cell_type": "markdown",
   "id": "84f07f93",
   "metadata": {},
   "source": [
    "#### **LSE Data Analytics Online Career Accelerator** \n",
    "#### Course 201: Data Analytics with Python"
   ]
  },
  {
   "cell_type": "markdown",
   "id": "2c6a7d7b",
   "metadata": {},
   "source": [
    "## Assignment 2: Covid data - Hazel Chan - April 30, 2022"
   ]
  },
  {
   "cell_type": "markdown",
   "id": "9157b71c-1db1-4122-8975-627aa7d1b1a5",
   "metadata": {},
   "source": [
    "## Student Note\n",
    "This template can be used to better understand the suggested workflow and how to approach the questions. You are welcome to add code and markdown blocks to the various sections to add either code or comments. Make sure to add code cells as applicable, and to comment all your code blocks.\n",
    "\n",
    "You have the option to populate your notebook with all the elements typically contained within the report, or to submit a separate report. In the case of submitting your notebook, you can embed images, links and text where appropriate in addition to the text notes added.\n",
    "\n",
    "**SPECIAL NOTE**\n",
    "- Submit your Jupyter Notebook with the following naming convention: `LSE_DA201_assignment_[your name]_[your surname]`\n",
    "- You should submit a zipped folder containing all the elements used in your notebook (data files, images, etc)"
   ]
  },
  {
   "cell_type": "markdown",
   "id": "3a895e5d",
   "metadata": {},
   "source": [
    "> ***Markdown notes:*** Remember to change cell types to `Markdown` and take a look here: [Markdown basics](https://docs.github.com/en/get-started/writing-on-github/getting-started-with-writing-and-formatting-on-github/basic-writing-and-formatting-syntax) to add formatted text, links and images to your markdown documents."
   ]
  },
  {
   "cell_type": "markdown",
   "id": "c1f155d2-e4d0-423d-aa87-b8240fcadbfe",
   "metadata": {},
   "source": [
    "### 0) Environment preparation\n",
    "These settings are provided for you."
   ]
  },
  {
   "cell_type": "code",
   "execution_count": 4,
   "id": "b10f4193-c2a2-4fdc-95b3-c04385631ebe",
   "metadata": {},
   "outputs": [],
   "source": [
    "# Import the required libraries and set plotting options\n",
    "import numpy as np\n",
    "import pandas as pd\n",
    "import seaborn as sns\n",
    "import matplotlib.pyplot as plt\n",
    "\n",
    "sns.set(rc = {'figure.figsize':(15,10)})"
   ]
  },
  {
   "cell_type": "markdown",
   "id": "1231e175-1d18-4e72-ade2-5dad33183312",
   "metadata": {},
   "source": [
    "Define directory to load raw data. You may change this directory to the one on your computer to load data files."
   ]
  },
  {
   "cell_type": "code",
   "execution_count": 2,
   "id": "d9abd60d-1da3-435a-b89f-f02325bd3a40",
   "metadata": {},
   "outputs": [
    {
     "name": "stdout",
     "output_type": "stream",
     "text": [
      "/Users/hazel/Documents/LSE Data Analytics/Course 2 - Python/Assignment 2/Final\n"
     ]
    }
   ],
   "source": [
    "!pwd"
   ]
  },
  {
   "cell_type": "code",
   "execution_count": 5,
   "id": "5f93ff32-931c-44ae-b346-9d483b351c53",
   "metadata": {},
   "outputs": [],
   "source": [
    "# Define directory to load data files\n",
    "dir = '/Users/hazel/Documents/LSE Data Analytics/Course 2 - Python/Assignment 2/Final/Data'"
   ]
  },
  {
   "cell_type": "markdown",
   "id": "c3f46860",
   "metadata": {
    "tags": []
   },
   "source": [
    "### 1) Assignment activity 1: [Prepare your GitHub repository](https://fourthrev.instructure.com/courses/313/pages/assignment-activity-1-prepare-your-github-repository?module_item_id=20647)\n",
    "\n",
    "#### 1.1) Report/notebook expectations:\n",
    "- Demonstrate your GitHub setup consisting of the load and push updates of all the Jupyter Notebook files. (**Hint**: Make sure that your github username, the directory structure and updates are visible in the screenshot. Make sure to provide a zipped copy of the folder containing your submission notebook as well as supporting files such as images used in the notebook.)"
   ]
  },
  {
   "cell_type": "markdown",
   "id": "a261c768-dff6-425b-b2e0-aa5b47e5d2fa",
   "metadata": {
    "tags": []
   },
   "source": [
    "#### Required: Report submission:\n",
    "Insert URL to your public GitHub repository and a screenshot (double click cell to edit)\n",
    "- [My Github Repo](https://github.com/username/reponame)\n",
    "- Screenshot demo (replace with your own)\n",
    "\n",
    "!['My Github screenshot](http://github.com/apvoges/lse-ca/blob/main/GitHubScreenshot.png?raw=true)\n",
    "(Note that this only works if your repo is set to **public**. Alternatively you need to refer to a local image and include this image in your submission.)"
   ]
  },
  {
   "cell_type": "markdown",
   "id": "5430b3ce-3d82-4fd7-9163-a9094c7d0632",
   "metadata": {},
   "source": [
    "#### 1.2) Presentation expectations:\n",
    "- Describe the role and how workflow tools such as Github can be used to add value to organisations."
   ]
  },
  {
   "cell_type": "markdown",
   "id": "3848ff2a-a0c8-4807-bf1d-c8e40f3b5f10",
   "metadata": {},
   "source": [
    "#### Optional for notebook/Required for presentation.\n",
    "- You can use this cell as placeholder for bulletpoints to include in your presentation. \n",
    "- Note that this section will not be graded in the notebook, grades awarded based on presentation content only. \n",
    "\n",
    "(Double-click to edit)"
   ]
  },
  {
   "cell_type": "code",
   "execution_count": null,
   "id": "3e8f47ee-c19d-448e-af03-b1b8509bc0a8",
   "metadata": {},
   "outputs": [],
   "source": []
  },
  {
   "cell_type": "markdown",
   "id": "2a44f1af-fa0d-4d5b-92fa-4e6896958644",
   "metadata": {},
   "source": [
    "### 2) Assignment activity 2: [Import and explore data](https://fourthrev.instructure.com/courses/313/pages/assignment-activity-2-import-and-explore-the-data?module_item_id=20648)\n",
    "\n",
    "#### 2.1) Report expectations:\n",
    "- Load the files `covid_19_uk_cases.csv` and `covid_19_uk_vaccinated.csv` and explore the data.\n",
    "- Explore the data using the `info()`, `describe()`, `shape` and `value_counts()` methods, and note the observations regarding data types, number or records and features\n",
    "- Identify missing data\n",
    "- Filter/subset data\n",
    "- Aggregate data (totals and by month)\n",
    "- Note observations"
   ]
  },
  {
   "cell_type": "code",
   "execution_count": 2,
   "id": "c18199fa-8e5e-42e6-9a19-b8766730a16a",
   "metadata": {},
   "outputs": [],
   "source": [
    "# Load the covid cases and vaccine data sets as cov and vac respectively"
   ]
  },
  {
   "cell_type": "code",
   "execution_count": null,
   "id": "bcd43318-2f54-4fd6-a4f8-b392c2430284",
   "metadata": {},
   "outputs": [],
   "source": [
    "cov = \n",
    "vac = "
   ]
  },
  {
   "cell_type": "code",
   "execution_count": null,
   "id": "40c58b44-7f82-4862-99a8-89345187c84b",
   "metadata": {},
   "outputs": [],
   "source": [
    "# Explore the DataFrames with the appropriate functions"
   ]
  },
  {
   "cell_type": "code",
   "execution_count": null,
   "id": "7b5fd0d9-987d-4e50-b0d9-6966d13cd467",
   "metadata": {},
   "outputs": [],
   "source": []
  },
  {
   "cell_type": "code",
   "execution_count": null,
   "id": "9f3a9e9c-fc2b-4d16-8389-3bdb56639d33",
   "metadata": {},
   "outputs": [],
   "source": []
  },
  {
   "cell_type": "code",
   "execution_count": null,
   "id": "1082bc58-3249-421c-a807-716349042385",
   "metadata": {},
   "outputs": [],
   "source": []
  },
  {
   "cell_type": "code",
   "execution_count": null,
   "id": "f8584e15-0a30-4d79-8087-63085620c518",
   "metadata": {},
   "outputs": [],
   "source": []
  },
  {
   "cell_type": "code",
   "execution_count": null,
   "id": "1636b26d-8524-4b09-b20e-a3e05d07643d",
   "metadata": {},
   "outputs": [],
   "source": []
  },
  {
   "cell_type": "code",
   "execution_count": null,
   "id": "cfed6fcb-8cf1-4bcf-9aff-836807f07ec0",
   "metadata": {},
   "outputs": [],
   "source": [
    "# Create DataFrame based on Gibraltar data\n",
    "# Hint: newdf = df[df[col]==index]"
   ]
  },
  {
   "cell_type": "code",
   "execution_count": null,
   "id": "01482eaa-3ad9-4d89-9eed-64f04639f89a",
   "metadata": {},
   "outputs": [],
   "source": []
  },
  {
   "cell_type": "code",
   "execution_count": null,
   "id": "02731bc4-d90b-46d7-9020-ebed51252509",
   "metadata": {},
   "outputs": [],
   "source": [
    "# Explore behaviour over time"
   ]
  },
  {
   "cell_type": "code",
   "execution_count": null,
   "id": "a213c4e6-357d-401e-b747-f5de9aed4cc8",
   "metadata": {},
   "outputs": [],
   "source": []
  },
  {
   "cell_type": "code",
   "execution_count": null,
   "id": "f24949f1-8266-4d87-9692-271c78f7c310",
   "metadata": {},
   "outputs": [],
   "source": [
    "# Explore and note observations\n",
    "# Are there any of the visualisations that could be added here to make it easier?"
   ]
  },
  {
   "cell_type": "code",
   "execution_count": null,
   "id": "112a82b4-07be-423d-9959-3fe8c9b26d90",
   "metadata": {},
   "outputs": [],
   "source": []
  },
  {
   "cell_type": "code",
   "execution_count": null,
   "id": "e722df69-b55c-4909-a189-1ed1f482f403",
   "metadata": {},
   "outputs": [],
   "source": []
  },
  {
   "cell_type": "code",
   "execution_count": null,
   "id": "fa568e2d-d110-4022-84cd-5e4c2d8b01cc",
   "metadata": {},
   "outputs": [],
   "source": []
  },
  {
   "cell_type": "code",
   "execution_count": null,
   "id": "20800d90-a78b-4f2a-94ea-77f5b606c13b",
   "metadata": {},
   "outputs": [],
   "source": []
  },
  {
   "cell_type": "markdown",
   "id": "0fc4f244-8514-4337-b581-9a25611b36b7",
   "metadata": {
    "tags": []
   },
   "source": [
    "#### 2.2) Presentation expectations:\n",
    "Use the process of exploring the data for Gibraltar as example to provide a brief description of the various phases to help your team to understand the process. Keep it high level and make sure to focus on both specifics relating to the case (first dose, second dose per region, total and over time) and brief observations regarding the process. Assignment two considers basic data exploration.\n",
    "- Can we make decisions based on total numbers only, or do trends over time offer additional insights?\n",
    "- Why it is important to explore the data, what are the typical mistakes made in this phase?"
   ]
  },
  {
   "cell_type": "code",
   "execution_count": null,
   "id": "fe004db6-d347-4eb7-a8bf-fc47a50e2aac",
   "metadata": {},
   "outputs": [],
   "source": []
  },
  {
   "cell_type": "markdown",
   "id": "861d8313-d8cf-4ed4-a885-fd0fd69375b5",
   "metadata": {
    "tags": []
   },
   "source": [
    "### 3) Assignment activity 3: [Merge and analyse the data](https://fourthrev.instructure.com/courses/313/pages/assignment-activity-3-merge-and-analyse-the-data?module_item_id=20649)\n",
    "\n",
    "#### 3.1) Report expectations:\n",
    "- Merge and explore the data\n",
    "- Convert the data type of the Date column from object to datetime\n",
    "- Create a dataset that meets the expected parameters\n",
    "- Add calculated features to dataframes (difference between first and second dose vaccinations)\n",
    "- Filter and sort output\n",
    "- Observe totals and percentages as a total and over time\n",
    "- Note observations\n",
    "\n",
    "Merge the DataFrames without duplicating columns. The new DataFrame (e.g. `covid`) will have `7584` rows and the following columns: Province/State, Country/Region, Date, Vaccinated, First Dose, Second Dose, Deaths, Cases, Recovered, Hospitalised."
   ]
  },
  {
   "cell_type": "code",
   "execution_count": null,
   "id": "47c49913-e413-48ca-b559-12ea4092f70e",
   "metadata": {},
   "outputs": [],
   "source": [
    "# Join the DataFrames as covid where you merge cov and vac"
   ]
  },
  {
   "cell_type": "code",
   "execution_count": null,
   "id": "58a2d0fa-5af5-4897-ac2c-8fb4d3120377",
   "metadata": {},
   "outputs": [],
   "source": [
    "# Explore the new DataFrame"
   ]
  },
  {
   "cell_type": "code",
   "execution_count": null,
   "id": "f694c580-59cb-4511-b562-e6888fdcce04",
   "metadata": {},
   "outputs": [],
   "source": [
    "# Fix the date column data type"
   ]
  },
  {
   "cell_type": "code",
   "execution_count": null,
   "id": "ae0d972e-d5f8-4141-a046-9e55041382e8",
   "metadata": {},
   "outputs": [],
   "source": [
    "# Clean up / drop unnecessary columns "
   ]
  },
  {
   "cell_type": "code",
   "execution_count": null,
   "id": "7dceee9b-21cc-47fd-bd8f-4ccc3cd6770d",
   "metadata": {},
   "outputs": [],
   "source": [
    "# Groupby and calculate difference between first and second dose"
   ]
  },
  {
   "cell_type": "code",
   "execution_count": null,
   "id": "abdef5d8-84cd-445a-8165-8f679348ecf1",
   "metadata": {},
   "outputs": [],
   "source": []
  },
  {
   "cell_type": "code",
   "execution_count": null,
   "id": "7f7cd313-917b-4a99-8027-0be7cf42ddef",
   "metadata": {},
   "outputs": [],
   "source": [
    "# Groupby and calculate difference between first and second dose over time"
   ]
  },
  {
   "cell_type": "code",
   "execution_count": null,
   "id": "941ecc7f-2891-472f-90f5-d00bea73898b",
   "metadata": {},
   "outputs": [],
   "source": []
  },
  {
   "cell_type": "markdown",
   "id": "f252a92c-53a2-4c04-a639-6b360716506a",
   "metadata": {},
   "source": [
    "#### 3.2) Presentation expectations:\n",
    "We use similar calculations and representations as we had in activity 2, but now expand to look at all provinces. Assignment 3 is concerned with exploring data in the context of a specific business question (as opposed to general exploration in assignment 2).\n",
    "- What insights can be gained from the data? (Description of all regions, assumptions and concerns, trends or patterns you have observed.)\n",
    "- Are there limitations or assumptions that needs to be considered?\n",
    "- Make sure to provide a brief overview of the data and typical considerations at this phase of analysis"
   ]
  },
  {
   "cell_type": "code",
   "execution_count": null,
   "id": "a1c5838a-5115-489b-81a5-bf5daa34de97",
   "metadata": {},
   "outputs": [],
   "source": []
  },
  {
   "cell_type": "markdown",
   "id": "a92fccc3-ec93-4096-a90a-6c864dadbdb5",
   "metadata": {},
   "source": [
    "### 4) Assignment activity 4: [Visualise and identify initial trends](https://fourthrev.instructure.com/courses/313/pages/assignment-activity-4-visualise-and-identify-initial-trends?module_item_id=21381)\n",
    "\n",
    "The government is looking to promote second dose vaccinations and looking for the first area to test a new campaign. They are looking for the highest number of people who have received a first dose and not a second dose. \n",
    "- Where should they target?\n",
    "- Which provinces have the highest number (actual numbers) and highest relative numbers (second dose only/first dose)\n",
    "- Visualise both outputs.\n",
    "\n",
    "#### 4.1) Report expectations:\n",
    "- Consider additional features (deaths and recoveries)\n",
    "- Visualise the data\n",
    "- Note observations\n",
    " - Do deaths follow the same patterns observed in vaccination data (daily vs cumulative)?\n",
    " - Do we need to separate groups of data for specific variables and analyse them in isolation (Others) to be able to observe the patterns?"
   ]
  },
  {
   "cell_type": "markdown",
   "id": "0df7d7da-322b-47f4-a4aa-857835310948",
   "metadata": {},
   "source": [
    "#### 4.2) Presentation expectations:\n",
    "- What insights can be gained from the data?\n",
    "- Why do we need to consider other features?\n",
    "- **Note**: Different features evaluated to improve decision making (deaths and recoveries); why it is important to explore data and use different views; Highlight two or three suggestions to get junior team members started in terms of good practices"
   ]
  },
  {
   "cell_type": "code",
   "execution_count": null,
   "id": "f24769ac-0135-45d3-8902-52765d523e8a",
   "metadata": {},
   "outputs": [],
   "source": [
    "# Absolute numbers"
   ]
  },
  {
   "cell_type": "code",
   "execution_count": null,
   "id": "fd7bd40a-4afb-4bb1-8d15-6cadcd6fa335",
   "metadata": {},
   "outputs": [],
   "source": []
  },
  {
   "cell_type": "code",
   "execution_count": null,
   "id": "0fba2fd8-e5a5-439a-842c-620111120f83",
   "metadata": {},
   "outputs": [],
   "source": [
    "# Relative numbers (%)"
   ]
  },
  {
   "cell_type": "code",
   "execution_count": null,
   "id": "b84acdc8-d543-4637-b0c3-2a97b4e91c08",
   "metadata": {},
   "outputs": [],
   "source": []
  },
  {
   "cell_type": "code",
   "execution_count": null,
   "id": "6858b31a-dd08-461d-af17-9e0419554ee5",
   "metadata": {},
   "outputs": [],
   "source": [
    "# Sort and display"
   ]
  },
  {
   "cell_type": "code",
   "execution_count": null,
   "id": "abdb1c4b-2580-44e1-aa85-2cc0f678276d",
   "metadata": {},
   "outputs": [],
   "source": []
  },
  {
   "cell_type": "code",
   "execution_count": null,
   "id": "eebbca19-842b-4c90-88fb-3f96df93ce85",
   "metadata": {},
   "outputs": [],
   "source": [
    "# Visualise"
   ]
  },
  {
   "cell_type": "code",
   "execution_count": null,
   "id": "f88f0114-f7a3-44d1-b8af-15142d36bd61",
   "metadata": {},
   "outputs": [],
   "source": []
  },
  {
   "cell_type": "code",
   "execution_count": null,
   "id": "5b939726-f592-4bc7-ad79-b0c2396523d3",
   "metadata": {},
   "outputs": [],
   "source": [
    "# Let's smooth out the data by looking at monthly figures"
   ]
  },
  {
   "cell_type": "code",
   "execution_count": null,
   "id": "96940a59-817c-4c26-8914-2e545d52c742",
   "metadata": {},
   "outputs": [],
   "source": []
  },
  {
   "cell_type": "code",
   "execution_count": null,
   "id": "8870ddd4-bf13-45b9-ade8-395a5cc8d7fb",
   "metadata": {},
   "outputs": [],
   "source": [
    "# Other features evaluated (data preparation, output and plots)"
   ]
  },
  {
   "cell_type": "code",
   "execution_count": null,
   "id": "d2945f94-ba7c-4adc-a117-039c97a37b8b",
   "metadata": {},
   "outputs": [],
   "source": []
  },
  {
   "cell_type": "code",
   "execution_count": null,
   "id": "ef2c9581-640b-4504-9326-183f7ee6d998",
   "metadata": {},
   "outputs": [],
   "source": []
  },
  {
   "cell_type": "markdown",
   "id": "ce9b4b33-b9e7-4edb-8b31-be365e6729bf",
   "metadata": {},
   "source": [
    "***Notes and observations:***\n",
    "Your observations here. (Double click to edit)\n",
    "\n",
    "***Examples could include:***\n",
    "- Are there other trends in terms of recoveries or hospitalisations compared to other features that you found interesting and that may add value in terms of the decision making process?\n",
    "- Any other observations regarding the data?\n",
    "- Any suggestions for improvements and further analysis?\n",
    "- What would your future data requirements be?"
   ]
  },
  {
   "cell_type": "code",
   "execution_count": null,
   "id": "15f74d58-5eec-4413-9fb2-47790f879fd9",
   "metadata": {},
   "outputs": [],
   "source": []
  },
  {
   "cell_type": "markdown",
   "id": "f8869036-4f54-44b1-861d-86becdcfcc2d",
   "metadata": {},
   "source": [
    "### 5) Assignment activity 5: External data: [Analyse the Twitter data](https://fourthrev.instructure.com/courses/313/pages/assignment-activity-5-analyse-the-twitter-data?module_item_id=21383)\n",
    "In the next section, you were supplied with a sample file and the question was asked to determine whether there are additional #tags or keywords that could potentially provide insights into your covid analysis. While the sample set is limited, you were asked to review the provided file and demonstrate the typical steps and make recommendations regarding future use of similar datasets to provide richer insights.\n",
    "\n",
    "#### 5.1) Report expectations:\n",
    "- Demonstrate basic ability to work with Twitter data\n",
    "- Search for hash-tags or keywords\n",
    "- Create dataframes and visualisations\n",
    "- Note observations"
   ]
  },
  {
   "cell_type": "code",
   "execution_count": null,
   "id": "d1e7d4c3-8227-4160-b503-33758f795a24",
   "metadata": {},
   "outputs": [],
   "source": [
    "# Import the tweet dataset (`tweets_2.csv`)\n"
   ]
  },
  {
   "cell_type": "code",
   "execution_count": null,
   "id": "a907280f-5bce-4c51-bc5e-f0586bad8b68",
   "metadata": {},
   "outputs": [],
   "source": [
    "# Explore the data: info(), head()\n"
   ]
  },
  {
   "cell_type": "code",
   "execution_count": null,
   "id": "f659ecc8-b884-457f-8c26-e3d5e43bd807",
   "metadata": {},
   "outputs": [],
   "source": [
    "# Explore the structure, count the tweets, get the elements of interest\n"
   ]
  },
  {
   "cell_type": "code",
   "execution_count": null,
   "id": "5fc53faf-5f04-46f8-897a-0bb2c16a0ed7",
   "metadata": {},
   "outputs": [],
   "source": [
    "# Create a dataframe with the text only\n"
   ]
  },
  {
   "cell_type": "code",
   "execution_count": null,
   "id": "b65ebfb2-1efd-49f5-823c-6c620909a63d",
   "metadata": {},
   "outputs": [],
   "source": [
    "# Loop through the messages and build a list of values containing the #-symbol\n"
   ]
  },
  {
   "cell_type": "code",
   "execution_count": null,
   "id": "d6f38e08-f144-4e33-9075-4201204603ad",
   "metadata": {},
   "outputs": [],
   "source": [
    "# Filter and sort\n"
   ]
  },
  {
   "cell_type": "code",
   "execution_count": null,
   "id": "486c422b-4789-41c6-80f3-0edd28e51493",
   "metadata": {},
   "outputs": [],
   "source": [
    "# Plot\n"
   ]
  },
  {
   "cell_type": "markdown",
   "id": "ba0c7137-06dc-4cea-bc3a-5bedaeb8af86",
   "metadata": {},
   "source": [
    "#### 5.2) Presentation expectations:\n",
    "Discuss whether external data could potentially be used and whether it is a viable solution to pursue. Discuss your assumptions and suggestions. \n",
    "\n",
    "Points to consider:\n",
    "- What insights can be gained from the data?\n",
    "- What are the advantages and disadvantages of using external data?\n",
    "- How would you suggest using external data in the project?"
   ]
  },
  {
   "cell_type": "code",
   "execution_count": null,
   "id": "c0d78d6d-8a74-4dc7-9074-65bdac58537a",
   "metadata": {},
   "outputs": [],
   "source": []
  },
  {
   "cell_type": "markdown",
   "id": "8339200b-2081-47dc-96f0-d62a408f4d35",
   "metadata": {},
   "source": [
    "### 6) Assignment activity 6: [Perform time-series analysis](https://fourthrev.instructure.com/courses/313/pages/assignment-activity-6-perform-time-series-analysis?module_item_id=22584)\n",
    "\n",
    "#### 6.1) Report expectations:\n",
    "- Demonstrate using external function and interpret results\n",
    "- Note observations"
   ]
  },
  {
   "cell_type": "code",
   "execution_count": null,
   "id": "b0a64a2f-2417-4dc2-8e2e-c99607b03dc1",
   "metadata": {},
   "outputs": [],
   "source": [
    "# You can copy and paste the relevant code cells from the provided template here."
   ]
  },
  {
   "cell_type": "code",
   "execution_count": null,
   "id": "5f6cc49f-48f6-4388-8adb-ef12d8eadf2e",
   "metadata": {},
   "outputs": [],
   "source": []
  },
  {
   "cell_type": "markdown",
   "id": "220b2cec-b7d0-4da5-84db-c7e4b82dd305",
   "metadata": {},
   "source": [
    "#### 6.2) Presentation expectations:\n",
    "- **Question 1**: We have heard of both qualitative and quantitative data from the previous consultant. What are the differences between the two? Should we use only one or both of these types of data and why? How can these be used in business predictions? Could you provide examples of each?\n",
    "- **Question 2**: We have also heard a bit about the need for continuous improvement. Why should this be implemented, it seems like a waste of time. Why can’t we just implement the current project as it stands and move on to other pressing matters?\n",
    "- **Question 3**: As a government, we adhere to all data protection requirements and have good governance in place. We only work with aggregated data and therefore will not expose any personal details. We have covered everything from a data ethics standpoint, correct? There’s nothing else we need to implement from a data ethics perspective, right?"
   ]
  },
  {
   "cell_type": "code",
   "execution_count": 3,
   "id": "ba341494-515d-4c18-bd6d-0595eb68f78b",
   "metadata": {},
   "outputs": [],
   "source": []
  },
  {
   "cell_type": "code",
   "execution_count": null,
   "id": "b44364ca-fc1c-4258-a363-b37b494d78d2",
   "metadata": {},
   "outputs": [],
   "source": []
  },
  {
   "cell_type": "code",
   "execution_count": null,
   "id": "9f32e19f-2df7-447f-b9c9-8690ab4525f9",
   "metadata": {},
   "outputs": [],
   "source": []
  }
 ],
 "metadata": {
  "kernelspec": {
   "display_name": "Python 3 (ipykernel)",
   "language": "python",
   "name": "python3"
  },
  "language_info": {
   "codemirror_mode": {
    "name": "ipython",
    "version": 3
   },
   "file_extension": ".py",
   "mimetype": "text/x-python",
   "name": "python",
   "nbconvert_exporter": "python",
   "pygments_lexer": "ipython3",
   "version": "3.9.7"
  }
 },
 "nbformat": 4,
 "nbformat_minor": 5
}
